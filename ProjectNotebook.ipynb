{
 "cells": [
  {
   "cell_type": "markdown",
   "metadata": {},
   "source": [
    "# Project Description"
   ]
  },
  {
   "cell_type": "markdown",
   "metadata": {},
   "source": [
    "This project can decode cryptograms encoded using the Caesar, Atbash, and A1Z26 ciphers (methods of encryption/decryption are described in documentation and comments of the related code). One part of the project allows the user to input any cryptogram encoded with these ciphers to find the secret message. The second part of the project involves Easter Eggs written with these ciphers. Below are cryptograms from the television show Gravity Falls left by the show's creators within each episode as fun messages for their fans, usually relating to something in the episode. For this project, these cryptograms can be used to find their decoded messages and additional facts about the episode that contains the cryptogram.\n",
    "\n",
    "Any cryptogram can be the input for the appropriate \"decrypt\" functions while only Gravity Falls cryptograms can be used for the \"find\" functions so that information about the episode appears. \n",
    "\n",
    "While Caesar ciphers can technically be shifted fowards or backwards in the alphabet any number of times, for this project, the default is decoding using 3 letters back because that is the cipher key used in Gravity Falls."
   ]
  },
  {
   "cell_type": "markdown",
   "metadata": {},
   "source": [
    "Gravity Falls' Cryptograms to try"
   ]
  },
  {
   "cell_type": "markdown",
   "metadata": {},
   "source": [
    "|Caesar Cryptograms| Atbash Cryptograms| A1Z26 Cryptograms|\n",
    "|------------------| ------------------|------------------|\n",
    "|\"VWDQ LV QRW ZKDW KH VHHPV\"| \"V. KOFIRYFH GIVNYOVB\"|[14, 5, 24, 20, \" \", 21, 16, \": \", 6, 15, 15, 20, 2, 15, 20, \" \", 20, 23, 15, \": \", 7, 18, 21, 14, 11, 12, 5, \"'\", 19, \" \", 7, 18, 5, 22, 5, 14, 7, 5]\n",
    "|\"ZHOFRPH WR JUDYLWB IDOOV\"| \"MLG S.T. DVOOH ZKKILEVW\"|[22, 9, 22, 1, 14, \" \", 12, 15, 19, \" \", 16, 1, 20, 15, 19,\" \", 4, 5, \" \", 12, 1, \" \", 16, 9, 19, 3, 9, 14, 1]\n",
    "|\"QHAW ZHHN: UHWXUQ WR EXWW LVODQG\"|\"HLIIB WRKKVI, YFG BLFI DVMWB RH RM ZMLGSVI XZHGOV\"|[2, 21, 20, \" \", 23, 8, 15, \" \", 19, 20, 15, 12, 5, \" \", 20, 8, 5, \" \", 3, 1, 16, 5, 18, 19, \"?\"]\n",
    "|\"KH'V VWLOO LQ WKH YHQWV\"|\"GSV RMERHRYOV DRAZIW RH DZGXSRMT\"|[8, 1, 16, 16, 25, \" \", 14, 15, 23, \", \", 1, 18, 9, 5, 12, \"?\"]\n",
    "|\"PU. FDHVDULDQ ZLOO EH RXW QHAW ZHHN. PU. DWEDVK ZLOO VXEVWLWXWH\"|\"YILFTSG GL BLF YB SLNVDLIP: GSV XZMWB\"|[9, 20, \" \", 23, 15, 18, 11, 19, \" \", 6, 15, 18, \" \", 16, 9, 9, 9, 9, 9, 9, 9, 9, 9, 9, 9, 9, 9, 9, 9, 9, 9, 7, 19, \"!\"]\n",
    "|\"SXEHUWB LV WKH JUHDWHVW PBVWHUB RI DOO. DOVR: JR RXWVLGH DQG PDNH IULHQGV\"|\"SVZEB RH GSV SVZW GSZG DVZIH GSV UVA\"|[20, 15, \" \", 2, 5, \" \", 3, 15, 14, 20, 9, 14, 21, 5, 4]\n",
    "|\"FDUOD, ZKB ZRQ'W BRX FDOO PH?\"|\"KZKVI QZN WRKKVI HZBH: 'ZFFTSDCJSTZWHZWHZWFS!'\"|[18, 5, 22, 5, 18, 19, 5, \" \", 20, 8, 5, \" \", 3, 9, 16, 8, 5, 18, 19]\n",
    "|\"RQZDUGV DRVKLPD!\"||\n",
    "|\"OLHV\"||\n",
    "|\"PBVWHUB VKDFN\"||\n",
    "|\"ELOO LV ZDWFKLQJ\"||"
   ]
  },
  {
   "cell_type": "markdown",
   "metadata": {},
   "source": [
    "## Project Code\n",
    "\n",
    "If it makes sense for your project, you can have code and outputs here in the notebook as well."
   ]
  },
  {
   "cell_type": "code",
   "execution_count": 8,
   "metadata": {
    "scrolled": true
   },
   "outputs": [],
   "source": [
    "from my_module.functions import caesar_decrypt\n",
    "from my_module.functions import a1z26_decrypt\n",
    "from my_module.functions import atbash_decrypt\n",
    "from my_module.functions import search\n",
    "from my_module.functions import episodes\n",
    "from my_module.functions import find_caesar\n",
    "from my_module.functions import find_atbash\n",
    "from my_module.functions import find_a1z26"
   ]
  },
  {
   "cell_type": "code",
   "execution_count": 9,
   "metadata": {},
   "outputs": [
    {
     "data": {
      "text/plain": [
       "'PYTHON IS FUN YET DIFFICULTTTTTT'"
      ]
     },
     "execution_count": 9,
     "metadata": {},
     "output_type": "execute_result"
    }
   ],
   "source": [
    "# Example using the Caesar cipher decoder\n",
    "\n",
    "crypto = \"SBWKRQ LV IXQ BHW GLIILFXOWWWWWW\"\n",
    "caesar_decrypt(crypto)"
   ]
  },
  {
   "cell_type": "code",
   "execution_count": 10,
   "metadata": {},
   "outputs": [
    {
     "data": {
      "text/plain": [
       "'ANACONDA WANTS HONEY BUNS'"
      ]
     },
     "execution_count": 10,
     "metadata": {},
     "output_type": "execute_result"
    }
   ],
   "source": [
    "# Example using the Atbash cipher decoder\n",
    "\n",
    "crypto = \"ZMZXLMWZ DZMGH SLMVB YFMH\"\n",
    "atbash_decrypt(crypto)"
   ]
  },
  {
   "cell_type": "code",
   "execution_count": 11,
   "metadata": {},
   "outputs": [
    {
     "data": {
      "text/plain": [
       "'BABY PYTHON SAYS SSS'"
      ]
     },
     "execution_count": 11,
     "metadata": {},
     "output_type": "execute_result"
    }
   ],
   "source": [
    "# Example using the A1Z26 cipher decoder\n",
    "\n",
    "crypto = [2, 1, 2, 25, \" \", 16, 25, 20, 8, 15, 14, \" \", 19, 1, 25, 19, \" \" ,19, 19, 19]\n",
    "a1z26_decrypt(crypto)"
   ]
  },
  {
   "cell_type": "code",
   "execution_count": 12,
   "metadata": {},
   "outputs": [
    {
     "data": {
      "text/plain": [
       "{'title': 'Carpet Diem',\n",
       " 'message': 'PUBERTY IS THE GREATEST MYSTERY OF ALL. ALSO: GO OUTSIDE AND MAKE FRIENDS',\n",
       " 'crypt': 'SXEHUWB LV WKH JUHDWHVW PBVWHUB RI DOO. DOVR: JR RXWVLGH DQG PDNH IULHQGV',\n",
       " 'where': \"Bottom of 'Why Am I Sweaty' page\",\n",
       " 'type': 'Caesar'}"
      ]
     },
     "execution_count": 12,
     "metadata": {},
     "output_type": "execute_result"
    }
   ],
   "source": [
    "# Example using an Caesar code to find its episode\n",
    "\n",
    "crypto = \"SXEHUWB LV WKH JUHDWHVW PBVWHUB RI DOO. DOVR: JR RXWVLGH DQG PDNH IULHQGV\"\n",
    "find_caesar(crypto)"
   ]
  },
  {
   "cell_type": "code",
   "execution_count": 13,
   "metadata": {},
   "outputs": [
    {
     "data": {
      "text/plain": [
       "{'title': 'Fight Fighters',\n",
       " 'message': 'SORRY DIPPER, BUT YOUR WENDY IS IN ANOTHER CASTLE',\n",
       " 'crypt': 'HLIIB WRKKVI, YFG BLFI DVMWB RH RM ZMLGSVI XZHGOV',\n",
       " 'where': 'End Credits',\n",
       " 'type': 'Atbash'}"
      ]
     },
     "execution_count": 13,
     "metadata": {},
     "output_type": "execute_result"
    }
   ],
   "source": [
    "# Example using an Atbash code to find its episode\n",
    "\n",
    "crypto = \"HLIIB WRKKVI, YFG BLFI DVMWB RH RM ZMLGSVI XZHGOV\"\n",
    "find_atbash(crypto)"
   ]
  },
  {
   "cell_type": "code",
   "execution_count": 14,
   "metadata": {},
   "outputs": [
    {
     "data": {
      "text/plain": [
       "{'title': 'Dreamscaperers',\n",
       " 'message': 'TO BE CONTINUED',\n",
       " 'crypt': [20, 15, ' ', 2, 5, ' ', 3, 15, 14, 20, 9, 14, 21, 5, 4],\n",
       " 'where': 'End Credits',\n",
       " 'type': 'A1Z26'}"
      ]
     },
     "execution_count": 14,
     "metadata": {},
     "output_type": "execute_result"
    }
   ],
   "source": [
    "# Example using an A1Z26 code to find its episode\n",
    "\n",
    "crypto = [20, 15, \" \", 2, 5, \" \", 3, 15, 14, 20, 9, 14, 21, 5, 4]\n",
    "find_a1z26(crypto)"
   ]
  }
 ],
 "metadata": {
  "kernelspec": {
   "display_name": "Python 3",
   "language": "python",
   "name": "python3"
  },
  "language_info": {
   "codemirror_mode": {
    "name": "ipython",
    "version": 3
   },
   "file_extension": ".py",
   "mimetype": "text/x-python",
   "name": "python",
   "nbconvert_exporter": "python",
   "pygments_lexer": "ipython3",
   "version": "3.7.6"
  }
 },
 "nbformat": 4,
 "nbformat_minor": 2
}
